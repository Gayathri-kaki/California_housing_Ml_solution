{
  "nbformat": 4,
  "nbformat_minor": 0,
  "metadata": {
    "colab": {
      "name": "California_housing.ipynb",
      "provenance": [],
      "collapsed_sections": [],
      "authorship_tag": "ABX9TyO0RHfIlBBlq2jX0v6psNH/",
      "include_colab_link": true
    },
    "kernelspec": {
      "name": "python3",
      "display_name": "Python 3"
    }
  },
  "cells": [
    {
      "cell_type": "markdown",
      "metadata": {
        "id": "view-in-github",
        "colab_type": "text"
      },
      "source": [
        "<a href=\"https://colab.research.google.com/github/Gayathri-kaki/California_housing_Ml_solution/blob/master/California_housing.ipynb\" target=\"_parent\"><img src=\"https://colab.research.google.com/assets/colab-badge.svg\" alt=\"Open In Colab\"/></a>"
      ]
    },
    {
      "cell_type": "markdown",
      "metadata": {
        "id": "ENCuw54-U1a9",
        "colab_type": "text"
      },
      "source": [
        "# California Housing Dataset\n",
        "Using linear regression"
      ]
    },
    {
      "cell_type": "code",
      "metadata": {
        "id": "h4lo785kVT8Q",
        "colab_type": "code",
        "colab": {}
      },
      "source": [
        "%tensorflow_version 2.x"
      ],
      "execution_count": 0,
      "outputs": []
    },
    {
      "cell_type": "code",
      "metadata": {
        "id": "Ezvm3X4uVc4T",
        "colab_type": "code",
        "colab": {
          "base_uri": "https://localhost:8080/",
          "height": 34
        },
        "outputId": "6ec5a0f4-802a-42ce-d829-2b5c91d5fd4e"
      },
      "source": [
        "import numpy as np\n",
        "import pandas as pd\n",
        "import tensorflow as tf\n",
        "from tensorflow import feature_column\n",
        "from tensorflow.keras import layers\n",
        "from matplotlib import pyplot as plt\n",
        "\n",
        "#The following lines adjust the granularity of reporting.\n",
        "pd.options.display.max_rows=10\n",
        "pd.options.display.float_format=\"{:.1f}\".format\n",
        "tf.keras.backend.set_floatx('float32')\n",
        "print(\"Imported Modules\")\n"
      ],
      "execution_count": 11,
      "outputs": [
        {
          "output_type": "stream",
          "text": [
            "Imported Modules\n"
          ],
          "name": "stdout"
        }
      ]
    },
    {
      "cell_type": "code",
      "metadata": {
        "id": "5Zi28vxvWyzi",
        "colab_type": "code",
        "colab": {}
      },
      "source": [
        "#Load the dataset\n",
        "train_df =pd.read_csv(\"https://download.mlcc.google.com/mledu-datasets/california_housing_train.csv\")\n",
        "test_df = pd.read_csv(\"https://download.mlcc.google.com/mledu-datasets/california_housing_test.csv\")\n",
        "\n",
        "#Scale the label\n",
        "scale_factor =1000.0\n",
        "#scale the training set's label\n",
        "train_df[\"median_house_value\"]/=scale_factor\n",
        "#scale the test set's label\n",
        "test_df[\"median_house_value\"]/=scale_factor\n",
        "\n",
        "#shuffle the examples\n",
        "train_df=train_df.reindex(np.random.permutation(train_df.index))"
      ],
      "execution_count": 0,
      "outputs": []
    },
    {
      "cell_type": "markdown",
      "metadata": {
        "id": "aENxtZ33YKhr",
        "colab_type": "text"
      },
      "source": [
        "# Represent latitude and longitude as floating-point values\n",
        "Here we use latitude and longitude features and create a feature layer,i,e our model trains on this two features.\n",
        "Because a neighborhood's location is typically the most important feature in determining a house's value.\n"
      ]
    },
    {
      "cell_type": "code",
      "metadata": {
        "id": "01ItspoHZJg8",
        "colab_type": "code",
        "colab": {}
      },
      "source": [
        "#Create an empty list that will eventually hold all feature columns.\n",
        "feature_columns=[]\n",
        "\n",
        "#create a numerical feature column to represent latitude.\n",
        "latitude = tf.feature_column.numeric_column(\"latitude\")\n",
        "feature_columns.append(latitude)\n",
        "#create a numerical feature column to represent longitude.\n",
        "longitude = tf.feature_column.numeric_column(\"longitude\")\n",
        "feature_columns.append(longitude)\n",
        "#Convert the list of feature columns into a layer that will ultimately become part of the model.\n",
        "\n",
        "fp_feature_layer=layers.DenseFeatures(feature_columns)"
      ],
      "execution_count": 0,
      "outputs": []
    },
    {
      "cell_type": "markdown",
      "metadata": {
        "id": "UfESc0Ljcdof",
        "colab_type": "text"
      },
      "source": [
        "# Define functions that create and train a model,and a plotting function\n",
        "The following code defines three functions:\n",
        "\n",
        "\n",
        "\n",
        "*  create_model, which tells TensorFlow to build a linear regression model and to use the feature_layer_as_fp as the representation of the model's features.\n",
        "*   train_model, which will ultimately train the model from training set examples.\n",
        "\n",
        "*  plot_the_loss_curve, which generates a loss curve.\n",
        "\n",
        "\n",
        "\n",
        "\n",
        "\n"
      ]
    },
    {
      "cell_type": "code",
      "metadata": {
        "id": "V2CIendDdSNL",
        "colab_type": "code",
        "colab": {
          "base_uri": "https://localhost:8080/",
          "height": 34
        },
        "outputId": "5aed2efd-d14a-4508-ff2f-e47a5c3cd93d"
      },
      "source": [
        "#define functions to create model,train and plot loss curve\n",
        "def create_model(my_learning_rate, feature_layer):\n",
        "  \"\"\"Create and compile a simple linear regression model.\"\"\"\n",
        "  # Most simple tf.keras models are sequential.\n",
        "  model = tf.keras.models.Sequential()\n",
        "\n",
        "  # Add the layer containing the feature columns to the model.\n",
        "  model.add(feature_layer)\n",
        "\n",
        "  # Add one linear layer to the model to yield a simple linear regressor.\n",
        "  model.add(tf.keras.layers.Dense(units=1, input_shape=(1,)))\n",
        "\n",
        "  # Construct the layers into a model that TensorFlow can execute.\n",
        "  model.compile(optimizer=tf.keras.optimizers.RMSprop(lr=my_learning_rate),\n",
        "                loss=\"mean_squared_error\",\n",
        "                metrics=[tf.keras.metrics.RootMeanSquaredError()])\n",
        "\n",
        "  return model           \n",
        "\n",
        "\n",
        "def train_model(model, dataset, epochs, batch_size, label_name):\n",
        "  \"\"\"Feed a dataset into the model in order to train it.\"\"\"\n",
        "\n",
        "  features = {name:np.array(value) for name, value in dataset.items()}\n",
        "  label = np.array(features.pop(label_name))\n",
        "  history = model.fit(x=features, y=label, batch_size=batch_size,\n",
        "                      epochs=epochs, shuffle=True)\n",
        "\n",
        "  # The list of epochs is stored separately from the rest of history.\n",
        "  epochs = history.epoch\n",
        "  \n",
        "  # Isolate the mean absolute error for each epoch.\n",
        "  hist = pd.DataFrame(history.history)\n",
        "  rmse = hist[\"root_mean_squared_error\"]\n",
        "\n",
        "  return epochs, rmse   \n",
        "\n",
        "\n",
        "def plot_the_loss_curve(epochs, rmse):\n",
        "  \"\"\"Plot a curve of loss vs. epoch.\"\"\"\n",
        "\n",
        "  plt.figure()\n",
        "  plt.xlabel(\"Epoch\")\n",
        "  plt.ylabel(\"Root Mean Squared Error\")\n",
        "\n",
        "  plt.plot(epochs, rmse, label=\"Loss\")\n",
        "  plt.legend()\n",
        "  plt.ylim([rmse.min()*0.94, rmse.max()* 1.05])\n",
        "  plt.show()  \n",
        "\n",
        "print(\"Defined the create_model, train_model, and plot_the_loss_curve functions.\")"
      ],
      "execution_count": 7,
      "outputs": [
        {
          "output_type": "stream",
          "text": [
            "Defined the create_model, train_model, and plot_the_loss_curve functions.\n"
          ],
          "name": "stdout"
        }
      ]
    },
    {
      "cell_type": "markdown",
      "metadata": {
        "id": "f_hK6Rp7kepL",
        "colab_type": "text"
      },
      "source": [
        "# Train the model with floating point representations\n"
      ]
    },
    {
      "cell_type": "code",
      "metadata": {
        "id": "W44x_d_4kn_i",
        "colab_type": "code",
        "colab": {
          "base_uri": "https://localhost:8080/",
          "height": 1000
        },
        "outputId": "86d602b0-3985-4524-abd5-23da81a0096d"
      },
      "source": [
        "#The following variables are the hyperparameters.\n",
        "learning_rate=0.05\n",
        "epochs=30\n",
        "batch_size=100\n",
        "label_name='median_house_value'\n",
        "\n",
        "#create and compile the model's topography\n",
        "my_model= create_model(learning_rate,fp_feature_layer)\n",
        "\n",
        "#Train the model on the training set.\n",
        "epochs,rmse =train_model(my_model,train_df,epochs,batch_size,label_name)\n",
        "plot_the_loss_curve(epochs,rmse)\n",
        "print(\"\\n: Evaluate the new model against the test set:\")\n",
        "test_features = {name:np.array(value) for name, value in test_df.items()}\n",
        "test_label = np.array(test_features.pop(label_name))\n",
        "my_model.evaluate(x=test_features, y=test_label, batch_size=batch_size)"
      ],
      "execution_count": 13,
      "outputs": [
        {
          "output_type": "stream",
          "text": [
            "Epoch 1/30\n",
            "170/170 [==============================] - 0s 1ms/step - loss: 14009.4971 - root_mean_squared_error: 118.3617\n",
            "Epoch 2/30\n",
            "170/170 [==============================] - 0s 1ms/step - loss: 13468.9277 - root_mean_squared_error: 116.0557\n",
            "Epoch 3/30\n",
            "170/170 [==============================] - 0s 1ms/step - loss: 13414.2559 - root_mean_squared_error: 115.8199\n",
            "Epoch 4/30\n",
            "170/170 [==============================] - 0s 1ms/step - loss: 13371.0146 - root_mean_squared_error: 115.6331\n",
            "Epoch 5/30\n",
            "170/170 [==============================] - 0s 1ms/step - loss: 13345.8643 - root_mean_squared_error: 115.5243\n",
            "Epoch 6/30\n",
            "170/170 [==============================] - 0s 1ms/step - loss: 13304.0107 - root_mean_squared_error: 115.3430\n",
            "Epoch 7/30\n",
            "170/170 [==============================] - 0s 1ms/step - loss: 13250.7725 - root_mean_squared_error: 115.1120\n",
            "Epoch 8/30\n",
            "170/170 [==============================] - 0s 1ms/step - loss: 13209.2900 - root_mean_squared_error: 114.9317\n",
            "Epoch 9/30\n",
            "170/170 [==============================] - 0s 1ms/step - loss: 13191.7471 - root_mean_squared_error: 114.8553\n",
            "Epoch 10/30\n",
            "170/170 [==============================] - 0s 1ms/step - loss: 13150.3633 - root_mean_squared_error: 114.6750\n",
            "Epoch 11/30\n",
            "170/170 [==============================] - 0s 1ms/step - loss: 13124.0986 - root_mean_squared_error: 114.5605\n",
            "Epoch 12/30\n",
            "170/170 [==============================] - 0s 1ms/step - loss: 13088.7266 - root_mean_squared_error: 114.4060\n",
            "Epoch 13/30\n",
            "170/170 [==============================] - 0s 1ms/step - loss: 13078.2871 - root_mean_squared_error: 114.3604\n",
            "Epoch 14/30\n",
            "170/170 [==============================] - 0s 1ms/step - loss: 13043.7988 - root_mean_squared_error: 114.2095\n",
            "Epoch 15/30\n",
            "170/170 [==============================] - 0s 1ms/step - loss: 13034.1045 - root_mean_squared_error: 114.1670\n",
            "Epoch 16/30\n",
            "170/170 [==============================] - 0s 1ms/step - loss: 13009.8379 - root_mean_squared_error: 114.0607\n",
            "Epoch 17/30\n",
            "170/170 [==============================] - 0s 1ms/step - loss: 12995.7607 - root_mean_squared_error: 113.9989\n",
            "Epoch 18/30\n",
            "170/170 [==============================] - 0s 1ms/step - loss: 12971.0020 - root_mean_squared_error: 113.8903\n",
            "Epoch 19/30\n",
            "170/170 [==============================] - 0s 1ms/step - loss: 12949.3203 - root_mean_squared_error: 113.7951\n",
            "Epoch 20/30\n",
            "170/170 [==============================] - 0s 1ms/step - loss: 12949.1045 - root_mean_squared_error: 113.7941\n",
            "Epoch 21/30\n",
            "170/170 [==============================] - 0s 1ms/step - loss: 12933.4277 - root_mean_squared_error: 113.7252\n",
            "Epoch 22/30\n",
            "170/170 [==============================] - 0s 1ms/step - loss: 12911.9707 - root_mean_squared_error: 113.6309\n",
            "Epoch 23/30\n",
            "170/170 [==============================] - 0s 1ms/step - loss: 12904.2393 - root_mean_squared_error: 113.5969\n",
            "Epoch 24/30\n",
            "170/170 [==============================] - 0s 1ms/step - loss: 12877.5957 - root_mean_squared_error: 113.4795\n",
            "Epoch 25/30\n",
            "170/170 [==============================] - 0s 1ms/step - loss: 12890.2305 - root_mean_squared_error: 113.5351\n",
            "Epoch 26/30\n",
            "170/170 [==============================] - 0s 1ms/step - loss: 12867.8262 - root_mean_squared_error: 113.4364\n",
            "Epoch 27/30\n",
            "170/170 [==============================] - 0s 1ms/step - loss: 12862.1650 - root_mean_squared_error: 113.4115\n",
            "Epoch 28/30\n",
            "170/170 [==============================] - 0s 1ms/step - loss: 12849.7998 - root_mean_squared_error: 113.3569\n",
            "Epoch 29/30\n",
            "170/170 [==============================] - 0s 1ms/step - loss: 12846.6045 - root_mean_squared_error: 113.3428\n",
            "Epoch 30/30\n",
            "170/170 [==============================] - 0s 1ms/step - loss: 12842.2090 - root_mean_squared_error: 113.3234\n"
          ],
          "name": "stdout"
        },
        {
          "output_type": "display_data",
          "data": {
            "image/png": "[encoded data removed]",
            "text/plain": [
              "<Figure size 432x288 with 1 Axes>"
            ]
          },
          "metadata": {
            "tags": [],
            "needs_background": "light"
          }
        },
        {
          "output_type": "stream",
          "text": [
            "\n",
            ": Evaluate the new model against the test set:\n",
            "30/30 [==============================] - 0s 1ms/step - loss: 12204.3721 - root_mean_squared_error: 110.4734\n"
          ],
          "name": "stdout"
        },
        {
          "output_type": "execute_result",
          "data": {
            "text/plain": [
              "[12204.3720703125, 110.47339630126953]"
            ]
          },
          "metadata": {
            "tags": []
          },
          "execution_count": 13
        }
      ]
    },
    {
      "cell_type": "markdown",
      "metadata": {
        "id": "Fti48dB2nwl_",
        "colab_type": "text"
      },
      "source": [
        "# Representing latitudes and longitudes in buckets"
      ]
    },
    {
      "cell_type": "code",
      "metadata": {
        "id": "PsVr_drcn-6D",
        "colab_type": "code",
        "colab": {}
      },
      "source": [
        "resolution_in_degrees=1.0\n",
        "#create a new empty list that will eventually hold the generated feature columns.\n",
        "feature_columns=[]\n",
        "\n",
        "\n",
        "#Create a bucket feature column for latitude.\n",
        "latitude_as_numeric_column=tf.feature_column.numeric_column(\"latitude\")\n",
        "latitude_boundaries=list(np.arange(int(min(train_df['latitude'])),int(max(train_df['latitude'])),resolution_in_degrees))\n",
        "latitude=tf.feature_column.bucketized_column(latitude_as_numeric_column,latitude_boundaries)\n",
        "feature_columns.append(latitude)\n",
        "\n",
        "\n",
        "#create a bucket feature column for longitude\n",
        "longitude_as_numeric_column=tf.feature_column.numeric_column(\"longitude\")\n",
        "longitude_boundaries=list(np.arange(int(min(train_df['longitude'])),int(max(train_df['longitude'])),resolution_in_degrees))\n",
        "longitude=tf.feature_column.bucketized_column(longitude_as_numeric_column,longitude_boundaries)\n",
        "feature_columns.append(longitude)\n",
        "\n",
        "\n",
        "#convert the list of feature columns into a layer that will ultimately become the part of the model\n",
        "buckets_feature_layer=layers.DenseFeatures(feature_columns)"
      ],
      "execution_count": 0,
      "outputs": []
    },
    {
      "cell_type": "markdown",
      "metadata": {
        "id": "L533p9REqlZ2",
        "colab_type": "text"
      },
      "source": [
        "# Train the model with bucket representations"
      ]
    },
    {
      "cell_type": "code",
      "metadata": {
        "id": "iM4wPjasqso-",
        "colab_type": "code",
        "colab": {
          "base_uri": "https://localhost:8080/",
          "height": 1000
        },
        "outputId": "09f83796-27bf-4f0f-e556-99d2565bbde2"
      },
      "source": [
        "# The following variables are the hyperparameters.\n",
        "learning_rate = 0.04\n",
        "epochs = 35\n",
        "\n",
        "# Build the model, this time passing in the buckets_feature_layer.\n",
        "my_model = create_model(learning_rate, buckets_feature_layer)\n",
        "\n",
        "# Train the model on the training set.\n",
        "epochs, rmse = train_model(my_model, train_df, epochs, batch_size, label_name)\n",
        "\n",
        "plot_the_loss_curve(epochs, rmse)\n",
        "\n",
        "print(\"\\n: Evaluate the new model against the test set:\")\n",
        "my_model.evaluate(x=test_features, y=test_label, batch_size=batch_size)"
      ],
      "execution_count": 17,
      "outputs": [
        {
          "output_type": "stream",
          "text": [
            "Epoch 1/35\n",
            "170/170 [==============================] - 0s 1ms/step - loss: 52009.1055 - root_mean_squared_error: 228.0551\n",
            "Epoch 2/35\n",
            "170/170 [==============================] - 0s 1ms/step - loss: 44615.6250 - root_mean_squared_error: 211.2241\n",
            "Epoch 3/35\n",
            "170/170 [==============================] - 0s 1ms/step - loss: 38034.8945 - root_mean_squared_error: 195.0254\n",
            "Epoch 4/35\n",
            "170/170 [==============================] - 0s 1ms/step - loss: 32215.0293 - root_mean_squared_error: 179.4854\n",
            "Epoch 5/35\n",
            "170/170 [==============================] - 0s 1ms/step - loss: 27206.4141 - root_mean_squared_error: 164.9437\n",
            "Epoch 6/35\n",
            "170/170 [==============================] - 0s 1ms/step - loss: 22939.1250 - root_mean_squared_error: 151.4567\n",
            "Epoch 7/35\n",
            "170/170 [==============================] - 0s 1ms/step - loss: 19445.9902 - root_mean_squared_error: 139.4489\n",
            "Epoch 8/35\n",
            "170/170 [==============================] - 0s 1ms/step - loss: 16658.2051 - root_mean_squared_error: 129.0667\n",
            "Epoch 9/35\n",
            "170/170 [==============================] - 0s 1ms/step - loss: 14496.9277 - root_mean_squared_error: 120.4032\n",
            "Epoch 10/35\n",
            "170/170 [==============================] - 0s 1ms/step - loss: 12965.0693 - root_mean_squared_error: 113.8643\n",
            "Epoch 11/35\n",
            "170/170 [==============================] - 0s 1ms/step - loss: 11930.1650 - root_mean_squared_error: 109.2253\n",
            "Epoch 12/35\n",
            "170/170 [==============================] - 0s 1ms/step - loss: 11311.9922 - root_mean_squared_error: 106.3578\n",
            "Epoch 13/35\n",
            "170/170 [==============================] - 0s 1ms/step - loss: 10975.5312 - root_mean_squared_error: 104.7642\n",
            "Epoch 14/35\n",
            "170/170 [==============================] - 0s 1ms/step - loss: 10790.8438 - root_mean_squared_error: 103.8790\n",
            "Epoch 15/35\n",
            "170/170 [==============================] - 0s 1ms/step - loss: 10674.8750 - root_mean_squared_error: 103.3193\n",
            "Epoch 16/35\n",
            "170/170 [==============================] - 0s 1ms/step - loss: 10601.0615 - root_mean_squared_error: 102.9615\n",
            "Epoch 17/35\n",
            "170/170 [==============================] - 0s 1ms/step - loss: 10551.0049 - root_mean_squared_error: 102.7181\n",
            "Epoch 18/35\n",
            "170/170 [==============================] - 0s 1ms/step - loss: 10517.4268 - root_mean_squared_error: 102.5545\n",
            "Epoch 19/35\n",
            "170/170 [==============================] - 0s 1ms/step - loss: 10494.9785 - root_mean_squared_error: 102.4450\n",
            "Epoch 20/35\n",
            "170/170 [==============================] - 0s 1ms/step - loss: 10476.3535 - root_mean_squared_error: 102.3540\n",
            "Epoch 21/35\n",
            "170/170 [==============================] - 0s 1ms/step - loss: 10462.0332 - root_mean_squared_error: 102.2841\n",
            "Epoch 22/35\n",
            "170/170 [==============================] - 0s 1ms/step - loss: 10449.1768 - root_mean_squared_error: 102.2212\n",
            "Epoch 23/35\n",
            "170/170 [==============================] - 0s 1ms/step - loss: 10437.6387 - root_mean_squared_error: 102.1648\n",
            "Epoch 24/35\n",
            "170/170 [==============================] - 0s 1ms/step - loss: 10427.0186 - root_mean_squared_error: 102.1128\n",
            "Epoch 25/35\n",
            "170/170 [==============================] - 0s 1ms/step - loss: 10416.9697 - root_mean_squared_error: 102.0636\n",
            "Epoch 26/35\n",
            "170/170 [==============================] - 0s 1ms/step - loss: 10407.3564 - root_mean_squared_error: 102.0164\n",
            "Epoch 27/35\n",
            "170/170 [==============================] - 0s 1ms/step - loss: 10399.1240 - root_mean_squared_error: 101.9761\n",
            "Epoch 28/35\n",
            "170/170 [==============================] - 0s 1ms/step - loss: 10390.4238 - root_mean_squared_error: 101.9334\n",
            "Epoch 29/35\n",
            "170/170 [==============================] - 0s 1ms/step - loss: 10382.4326 - root_mean_squared_error: 101.8942\n",
            "Epoch 30/35\n",
            "170/170 [==============================] - 0s 1ms/step - loss: 10374.5830 - root_mean_squared_error: 101.8557\n",
            "Epoch 31/35\n",
            "170/170 [==============================] - 0s 1ms/step - loss: 10367.0137 - root_mean_squared_error: 101.8185\n",
            "Epoch 32/35\n",
            "170/170 [==============================] - 0s 1ms/step - loss: 10359.8359 - root_mean_squared_error: 101.7833\n",
            "Epoch 33/35\n",
            "170/170 [==============================] - 0s 1ms/step - loss: 10352.9746 - root_mean_squared_error: 101.7496\n",
            "Epoch 34/35\n",
            "170/170 [==============================] - 0s 1ms/step - loss: 10346.4170 - root_mean_squared_error: 101.7173\n",
            "Epoch 35/35\n",
            "170/170 [==============================] - 0s 1ms/step - loss: 10340.0908 - root_mean_squared_error: 101.6862\n"
          ],
          "name": "stdout"
        },
        {
          "output_type": "display_data",
          "data": {
            "image/png": "[encoded data removed]",
            "text/plain": [
              "<Figure size 432x288 with 1 Axes>"
            ]
          },
          "metadata": {
            "tags": [],
            "needs_background": "light"
          }
        },
        {
          "output_type": "stream",
          "text": [
            "\n",
            ": Evaluate the new model against the test set:\n",
            "30/30 [==============================] - 0s 1ms/step - loss: 10198.0752 - root_mean_squared_error: 100.9855\n"
          ],
          "name": "stdout"
        },
        {
          "output_type": "execute_result",
          "data": {
            "text/plain": [
              "[10198.0751953125, 100.98551177978516]"
            ]
          },
          "metadata": {
            "tags": []
          },
          "execution_count": 17
        }
      ]
    },
    {
      "cell_type": "markdown",
      "metadata": {
        "id": "FqnxQPFjr8cd",
        "colab_type": "text"
      },
      "source": [
        "#Represent location as a feature cross\n",
        "The following code cell represents locations as a feature cross.That is,the following code cell first creates the buckets and then calls `tf.feature_column.crossed_column` to cross the buckets.\n",
        "\n"
      ]
    },
    {
      "cell_type": "code",
      "metadata": {
        "id": "CH13B7aCsy5M",
        "colab_type": "code",
        "colab": {}
      },
      "source": [
        "resolution_in_degrees = 1.5\n",
        "\n",
        "# Create a new empty list that will eventually hold the generated feature column.\n",
        "feature_columns = []\n",
        "\n",
        "# Create a bucket feature column for latitude.\n",
        "latitude_as_a_numeric_column = tf.feature_column.numeric_column(\"latitude\")\n",
        "latitude_boundaries = list(np.arange(int(min(train_df['latitude'])), int(max(train_df['latitude'])), resolution_in_degrees))\n",
        "latitude = tf.feature_column.bucketized_column(latitude_as_a_numeric_column, latitude_boundaries)\n",
        "\n",
        "# Create a bucket feature column for longitude.\n",
        "longitude_as_a_numeric_column = tf.feature_column.numeric_column(\"longitude\")\n",
        "longitude_boundaries = list(np.arange(int(min(train_df['longitude'])), int(max(train_df['longitude'])), resolution_in_degrees))\n",
        "longitude = tf.feature_column.bucketized_column(longitude_as_a_numeric_column, longitude_boundaries)\n",
        "\n",
        "# Create a feature cross of latitude and longitude.\n",
        "latitude_x_longitude = tf.feature_column.crossed_column([latitude, longitude], hash_bucket_size=100)\n",
        "crossed_feature = tf.feature_column.indicator_column(latitude_x_longitude)\n",
        "feature_columns.append(crossed_feature)\n",
        "\n",
        "# Convert the list of feature columns into a layer that will later be fed into\n",
        "# the model. \n",
        "feature_cross_feature_layer = layers.DenseFeatures(feature_columns)"
      ],
      "execution_count": 0,
      "outputs": []
    },
    {
      "cell_type": "code",
      "metadata": {
        "id": "XlwzUa6cs6zP",
        "colab_type": "code",
        "colab": {
          "base_uri": "https://localhost:8080/",
          "height": 1000
        },
        "outputId": "aa37e38e-fa2c-425e-8fd6-7ff1726b0952"
      },
      "source": [
        "# The following variables are the hyperparameters.\n",
        "learning_rate = 0.04\n",
        "epochs = 35\n",
        "\n",
        "# Build the model, this time passing in the feature_cross_feature_layer: \n",
        "my_model = create_model(learning_rate, feature_cross_feature_layer)\n",
        "\n",
        "# Train the model on the training set.\n",
        "epochs, rmse = train_model(my_model, train_df, epochs, batch_size, label_name)\n",
        "\n",
        "plot_the_loss_curve(epochs, rmse)\n",
        "\n",
        "print(\"\\n: Evaluate the new model against the test set:\")\n",
        "my_model.evaluate(x=test_features, y=test_label, batch_size=batch_size)"
      ],
      "execution_count": 26,
      "outputs": [
        {
          "output_type": "stream",
          "text": [
            "Epoch 1/35\n",
            "170/170 [==============================] - 0s 1ms/step - loss: 53504.7773 - root_mean_squared_error: 231.3110\n",
            "Epoch 2/35\n",
            "170/170 [==============================] - 0s 1ms/step - loss: 48385.1055 - root_mean_squared_error: 219.9662\n",
            "Epoch 3/35\n",
            "170/170 [==============================] - 0s 1ms/step - loss: 43637.6836 - root_mean_squared_error: 208.8963\n",
            "Epoch 4/35\n",
            "170/170 [==============================] - 0s 1ms/step - loss: 39224.7930 - root_mean_squared_error: 198.0525\n",
            "Epoch 5/35\n",
            "170/170 [==============================] - 0s 1ms/step - loss: 35173.8750 - root_mean_squared_error: 187.5470\n",
            "Epoch 6/35\n",
            "170/170 [==============================] - 0s 1ms/step - loss: 31468.2031 - root_mean_squared_error: 177.3928\n",
            "Epoch 7/35\n",
            "170/170 [==============================] - 0s 1ms/step - loss: 28089.2891 - root_mean_squared_error: 167.5986\n",
            "Epoch 8/35\n",
            "170/170 [==============================] - 0s 2ms/step - loss: 25050.5645 - root_mean_squared_error: 158.2737\n",
            "Epoch 9/35\n",
            "170/170 [==============================] - 0s 1ms/step - loss: 22347.6094 - root_mean_squared_error: 149.4912\n",
            "Epoch 10/35\n",
            "170/170 [==============================] - 0s 1ms/step - loss: 19950.7344 - root_mean_squared_error: 141.2471\n",
            "Epoch 11/35\n",
            "170/170 [==============================] - 0s 1ms/step - loss: 17873.7793 - root_mean_squared_error: 133.6929\n",
            "Epoch 12/35\n",
            "170/170 [==============================] - 0s 1ms/step - loss: 16094.7266 - root_mean_squared_error: 126.8650\n",
            "Epoch 13/35\n",
            "170/170 [==============================] - 0s 1ms/step - loss: 14587.6230 - root_mean_squared_error: 120.7792\n",
            "Epoch 14/35\n",
            "170/170 [==============================] - 0s 1ms/step - loss: 13357.8232 - root_mean_squared_error: 115.5760\n",
            "Epoch 15/35\n",
            "170/170 [==============================] - 0s 1ms/step - loss: 12388.6455 - root_mean_squared_error: 111.3043\n",
            "Epoch 16/35\n",
            "170/170 [==============================] - 0s 1ms/step - loss: 11654.1670 - root_mean_squared_error: 107.9544\n",
            "Epoch 17/35\n",
            "170/170 [==============================] - 0s 1ms/step - loss: 11135.8262 - root_mean_squared_error: 105.5264\n",
            "Epoch 18/35\n",
            "170/170 [==============================] - 0s 1ms/step - loss: 10798.1143 - root_mean_squared_error: 103.9140\n",
            "Epoch 19/35\n",
            "170/170 [==============================] - 0s 1ms/step - loss: 10593.0781 - root_mean_squared_error: 102.9227\n",
            "Epoch 20/35\n",
            "170/170 [==============================] - 0s 1ms/step - loss: 10464.1025 - root_mean_squared_error: 102.2942\n",
            "Epoch 21/35\n",
            "170/170 [==============================] - 0s 1ms/step - loss: 10382.3154 - root_mean_squared_error: 101.8936\n",
            "Epoch 22/35\n",
            "170/170 [==============================] - 0s 1ms/step - loss: 10325.0371 - root_mean_squared_error: 101.6122\n",
            "Epoch 23/35\n",
            "170/170 [==============================] - 0s 1ms/step - loss: 10285.5459 - root_mean_squared_error: 101.4177\n",
            "Epoch 24/35\n",
            "170/170 [==============================] - 0s 1ms/step - loss: 10256.1484 - root_mean_squared_error: 101.2727\n",
            "Epoch 25/35\n",
            "170/170 [==============================] - 0s 1ms/step - loss: 10235.3623 - root_mean_squared_error: 101.1700\n",
            "Epoch 26/35\n",
            "170/170 [==============================] - 0s 1ms/step - loss: 10219.9121 - root_mean_squared_error: 101.0936\n",
            "Epoch 27/35\n",
            "170/170 [==============================] - 0s 1ms/step - loss: 10208.4492 - root_mean_squared_error: 101.0369\n",
            "Epoch 28/35\n",
            "170/170 [==============================] - 0s 1ms/step - loss: 10198.9785 - root_mean_squared_error: 100.9900\n",
            "Epoch 29/35\n",
            "170/170 [==============================] - 0s 1ms/step - loss: 10192.3418 - root_mean_squared_error: 100.9571\n",
            "Epoch 30/35\n",
            "170/170 [==============================] - 0s 1ms/step - loss: 10186.3887 - root_mean_squared_error: 100.9276\n",
            "Epoch 31/35\n",
            "170/170 [==============================] - 0s 1ms/step - loss: 10181.3076 - root_mean_squared_error: 100.9025\n",
            "Epoch 32/35\n",
            "170/170 [==============================] - 0s 1ms/step - loss: 10177.0078 - root_mean_squared_error: 100.8812\n",
            "Epoch 33/35\n",
            "170/170 [==============================] - 0s 1ms/step - loss: 10173.2275 - root_mean_squared_error: 100.8624\n",
            "Epoch 34/35\n",
            "170/170 [==============================] - 0s 1ms/step - loss: 10169.7090 - root_mean_squared_error: 100.8450\n",
            "Epoch 35/35\n",
            "170/170 [==============================] - 0s 1ms/step - loss: 10166.5693 - root_mean_squared_error: 100.8294\n"
          ],
          "name": "stdout"
        },
        {
          "output_type": "display_data",
          "data": {
            "image/png": "[encoded data removed]",
            "text/plain": [
              "<Figure size 432x288 with 1 Axes>"
            ]
          },
          "metadata": {
            "tags": [],
            "needs_background": "light"
          }
        },
        {
          "output_type": "stream",
          "text": [
            "\n",
            ": Evaluate the new model against the test set:\n",
            "30/30 [==============================] - 0s 1ms/step - loss: 9733.9219 - root_mean_squared_error: 98.6606\n"
          ],
          "name": "stdout"
        },
        {
          "output_type": "execute_result",
          "data": {
            "text/plain": [
              "[9733.921875, 98.66063690185547]"
            ]
          },
          "metadata": {
            "tags": []
          },
          "execution_count": 26
        }
      ]
    }
  ]
}